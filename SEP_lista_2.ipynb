{
 "metadata": {
  "language_info": {
   "codemirror_mode": {
    "name": "ipython",
    "version": 3
   },
   "file_extension": ".py",
   "mimetype": "text/x-python",
   "name": "python",
   "nbconvert_exporter": "python",
   "pygments_lexer": "ipython3",
   "version": "3.8.5-final"
  },
  "orig_nbformat": 2,
  "kernelspec": {
   "name": "python3",
   "display_name": "Python 3.8.5 64-bit",
   "metadata": {
    "interpreter": {
     "hash": "31f2aee4e71d21fbe5cf8b01ff0e069b9275f58929596ceb00d14d90e3e16cd6"
    }
   }
  }
 },
 "nbformat": 4,
 "nbformat_minor": 2,
 "cells": [
  {
   "source": [
    "# Lista 2 de Sistemas Elétricos de Potência.\n",
    "Este Jupyter Notebook contém alguns exemplos de como utilizar o NepoSolver para resolver a lista 2 de Sistemas Elétricos de Potência, baseado na turma de 2020."
   ],
   "cell_type": "markdown",
   "metadata": {}
  },
  {
   "cell_type": "code",
   "execution_count": 2,
   "metadata": {},
   "outputs": [],
   "source": [
    "import lib.nepo_tools as nepo\n",
    "import numpy as np\n",
    "import cmath\n",
    "\n",
    "np.set_printoptions(precision=4)\n",
    "np.set_printoptions(suppress=True)"
   ]
  },
  {
   "cell_type": "code",
   "execution_count": 4,
   "metadata": {},
   "outputs": [
    {
     "output_type": "stream",
     "name": "stdout",
     "text": [
      "EXERCICIO 9\nCASO 2 - Adicionando Zb de uma nova barra p para uma barra k ja existente\nBarra k = 3\nCopiar coluna e linha k para coluna e linha p. Modificar o ultimo elemento, que sera:\nZkkb = Zbus[k][k] + Zb = 0.717j + 0.5j = 1.217j, onde k=3\n\nZbus original:\n0.717/_90.0°  0.61/_90.0°  0.533/_90.0°  0.58/_90.0°  \n0.61/_90.0°  0.732/_90.0°  0.64/_90.0°  0.697/_90.0°  \n0.533/_90.0°  0.64/_90.0°  0.717/_90.0°  0.67/_90.0°  \n0.58/_90.0°  0.697/_90.0°  0.67/_90.0°  0.763/_90.0°  \n\nZbus modificado:\n0.717/_90.0°  0.61/_90.0°  0.533/_90.0°  0.58/_90.0°  0.533/_90.0°  \n0.61/_90.0°  0.732/_90.0°  0.64/_90.0°  0.697/_90.0°  0.64/_90.0°  \n0.533/_90.0°  0.64/_90.0°  0.717/_90.0°  0.67/_90.0°  0.717/_90.0°  \n0.58/_90.0°  0.697/_90.0°  0.67/_90.0°  0.763/_90.0°  0.67/_90.0°  \n0.533/_90.0°  0.64/_90.0°  0.717/_90.0°  0.67/_90.0°  1.217/_90.0°  \n\n\n"
     ]
    },
    {
     "output_type": "execute_result",
     "data": {
      "text/plain": [
       "array([[0.+0.717j, 0.+0.61j , 0.+0.533j, 0.+0.58j , 0.+0.533j],\n",
       "       [0.+0.61j , 0.+0.732j, 0.+0.64j , 0.+0.697j, 0.+0.64j ],\n",
       "       [0.+0.533j, 0.+0.64j , 0.+0.717j, 0.+0.67j , 0.+0.717j],\n",
       "       [0.+0.58j , 0.+0.697j, 0.+0.67j , 0.+0.763j, 0.+0.67j ],\n",
       "       [0.+0.533j, 0.+0.64j , 0.+0.717j, 0.+0.67j , 0.+1.217j]])"
      ]
     },
     "metadata": {},
     "execution_count": 4
    }
   ],
   "source": [
    "#ex 9\n",
    "print(\"EXERCICIO 9\")\n",
    "zbus9 = 1j*np.array([\n",
    "    [0.717, 0.61, 0.533, 0.58],\n",
    "    [0.61, 0.732, 0.64, 0.697],\n",
    "    [0.533, 0.64, 0.717, 0.67],\n",
    "    [0.58, 0.697, 0.67, 0.763]\n",
    "])\n",
    "nepo.Zbus_case2(zbus9, 0.5j, k=3)\n"
   ]
  },
  {
   "cell_type": "code",
   "execution_count": 5,
   "metadata": {},
   "outputs": [
    {
     "output_type": "stream",
     "name": "stdout",
     "text": [
      "EXERCICIO 10\nCASO 4 - Adicionando Zb entre duas barras j e k existentes\nAdicionando Zb=0.2j entre barras 1 e 4\nCopiando linha j - linha k e coluna j - coluna k ao final da matriz\nO ultimo elemento sera: Zthjk + Zb\nZthjk = Zbus[j][j] + Zbus[k][k] - 2*Zbus[j][k]\nZthjk = 0.6809/_90.0° + 0.6986/_90.0° + 1.2564/_90.0° = 0.32/_90.0°\nZthjk + Zb = 0.32/_90.0° + 0.2j = 0.6986/_90.0°\n\nZbus original:\n0.717/_90.0°  0.61/_90.0°  0.533/_90.0°  0.58/_90.0°  \n0.61/_90.0°  0.732/_90.0°  0.64/_90.0°  0.697/_90.0°  \n0.533/_90.0°  0.64/_90.0°  0.717/_90.0°  0.67/_90.0°  \n0.58/_90.0°  0.697/_90.0°  0.67/_90.0°  0.763/_90.0°  \n\nZbus final:\n0.6809/_90.0°  0.6329/_90.0°  0.5691/_90.0°  0.6282/_90.0°  \n0.6329/_90.0°  0.7174/_90.0°  0.6171/_90.0°  0.6664/_90.0°  \n0.5691/_90.0°  0.6171/_90.0°  0.6809/_90.0°  0.6218/_90.0°  \n0.6282/_90.0°  0.6664/_90.0°  0.6218/_90.0°  0.6986/_90.0°  \n\n\n"
     ]
    },
    {
     "output_type": "execute_result",
     "data": {
      "text/plain": [
       "array([[0.+0.6809j, 0.+0.6329j, 0.+0.5691j, 0.+0.6282j],\n",
       "       [0.+0.6329j, 0.+0.7174j, 0.+0.6171j, 0.+0.6664j],\n",
       "       [0.+0.5691j, 0.+0.6171j, 0.+0.6809j, 0.+0.6218j],\n",
       "       [0.+0.6282j, 0.+0.6664j, 0.+0.6218j, 0.+0.6986j]])"
      ]
     },
     "metadata": {},
     "execution_count": 5
    }
   ],
   "source": [
    "#ex 10\n",
    "print(\"EXERCICIO 10\")\n",
    "nepo.Zbus_case4(zbus9, 0.2j, j=1, k=4)"
   ]
  },
  {
   "cell_type": "code",
   "execution_count": 6,
   "metadata": {},
   "outputs": [],
   "source": [
    "#ex 14\n",
    "zbus3 = 1j*np.array([\n",
    "    [0.15, 0.08, 0.04, 0.07],\n",
    "    [0.08, 0.15, 0.06, 0.09],\n",
    "    [0.04, 0.06, 0.13, 0.05],\n",
    "    [0.07, 0.09, 0.05, 0.12]\n",
    "])"
   ]
  },
  {
   "cell_type": "code",
   "execution_count": 7,
   "metadata": {},
   "outputs": [],
   "source": [
    "#ex 15\n",
    "ybus15 = 1j*np.array([\n",
    "    [-12, 5, 2],\n",
    "    [5, -7.5, 2.5],\n",
    "    [2, 2.5, -8.5]\n",
    "])\n",
    "\n",
    "zbus15 = nepo.inv(ybus15)"
   ]
  },
  {
   "cell_type": "code",
   "execution_count": 8,
   "metadata": {},
   "outputs": [
    {
     "output_type": "stream",
     "name": "stdout",
     "text": [
      "Exercicio 17\n\nFalta trifasica na barra k=1 com tensao pre-falta Vf de 1 pu\nZbus =\n[[0.+0.244j 0.+0.194j 0.+0.156j 0.+0.146j]\n [0.+0.194j 0.+0.23j  0.+0.15j  0.+0.15j ]\n [0.+0.155j 0.+0.15j  0.+0.2j   0.+0.105j]\n [0.+0.146j 0.+0.15j  0.+0.105j 0.+0.196j]] \n\nCalculando If:\nIf = Vf/Zbus[1][1] = 1/0.23j = 4.0984/_-90.0°\n\nCalculando as tensoes\nV[j] = Vf - Zbus[j][1]*If \n\nCalculando as correntes entre as barras\n(ex.: entre barra 1 e 2 é I[1][2]):\nI[i][j] = (V[i] - V[j])/Zb[i][j]\n\nTensoes finais:\n[[0.    +0.j]\n [0.2049+0.j]\n [0.3648+0.j]\n [0.4016+0.j]]\n\nCorrentes entre barras: \n[[0.+0.j     0.+1.6244j 0.+1.4583j 0.+1.037j ]\n [0.-1.6421j 0.+0.j     0.+0.5971j 0.+0.9404j]\n [0.-1.4063j 0.-0.6133j 0.+0.j     0.+0.0012j]\n [0.-1.0412j 0.-0.9423j 0.-0.0001j 0.+0.j    ]]\n\n"
     ]
    },
    {
     "output_type": "execute_result",
     "data": {
      "text/plain": [
       "(array([0.    +0.j, 0.2049+0.j, 0.3648+0.j, 0.4016+0.j]),\n",
       " array([[0.+0.j    , 0.+1.6244j, 0.+1.4583j, 0.+1.037j ],\n",
       "        [0.-1.6421j, 0.+0.j    , 0.+0.5971j, 0.+0.9404j],\n",
       "        [0.-1.4063j, 0.-0.6133j, 0.+0.j    , 0.+0.0012j],\n",
       "        [0.-1.0412j, 0.-0.9423j, 0.-0.0001j, 0.+0.j    ]]))"
      ]
     },
     "metadata": {},
     "execution_count": 8
    }
   ],
   "source": [
    "#ex 17\n",
    "zbus17 = 1j*np.array([\n",
    "    [0.244, 0.194, 0.156, 0.146],\n",
    "    [0.194, 0.23, 0.15, 0.15],\n",
    "    [0.155, 0.15, 0.2, 0.105],\n",
    "    [0.146, 0.15, 0.105, 0.196]\n",
    "])\n",
    "print(\"Exercicio 17\")\n",
    "nepo.triphase_fault_zbus(zbus17, k_fault=1, Vf=1)"
   ]
  },
  {
   "cell_type": "code",
   "execution_count": 9,
   "metadata": {},
   "outputs": [
    {
     "output_type": "stream",
     "name": "stdout",
     "text": [
      "Exercicio 18\n\nFalta Fase-Terra com Vf=1.0/_0.0°pu, Zkk1=0.15j, Zkk2=0.15j, Zkk0=0.05j e Zf=0\n\nCalculando Ifa0, Ifa1, Ifa2:\nIfa0 = Ifa1 = Ifa2 = Vf/(Zkk0+Zkk1+Zkk2+3*Zf)\nIfa0 = 1.0/_0.0°/(0.05j+0.15j+0.15j+0)\nIfa0 = 2.8571/_-90.0°\n\nCalculando Ifa:\n Ifa = Ifa0 + Ifa1 + Ifa2 = 3*Ifa0 \n Ifa = 8.5714/_-90.0°\n\nvIfn =\n [[0.-2.8571j]\n [0.-2.8571j]\n [0.-2.8571j]] \n\n vIf =\n[[0.-8.5714j]\n [0.+0.j    ]\n [0.+0.j    ]] \n\n\n\nCalculando tensoes pos falta:\nVka0 = -Zkk0*Ifa0\nVka1 = Vf - Zkk1*Ifa1\nVka2 = -Zkk2*Ifa2\n\nVkan = \n0.1429/_180.0°  \n0.5714/_0.0°  \n0.4286/_180.0°  \n\nVabc = (A @ Vkan) / sqrt(3) = \n0.0/_180.0°  \n0.8921/_-103.9°  \n0.8921/_103.9°  \nExercicio 19\n\nFalta Fase-Fase com Vf=1.0/_0.0°pu, Zkk1=0.15j, Zkk2=0.15j e Zf=0\n\nCalculando Ifa0, Ifa1, Ifa2:\nIfa0 = 0\nIfa1 = -Ifa2 = Vf/(Zkk1+Zkk2+Zf)\nIfa1 = 1.0/_0.0°/(0.15j+0.15j+0)\nIfa1 = 3.3333/_-90.0° = -Ifa2\nIfa2 = 3.3333/_90.0°\n\nCalculando Ifa:\n Ifa = Ifa0 + Ifa1 + Ifa2 \n Ifa = 0.0/_0.0°\n\nvIf =\n0.0/_0.0°  \n5.7735/_180.0°  \n5.7735/_-0.0°  \n\nvIfn =\n0.0/_0.0°  \n3.3333/_-90.0°  \n3.3333/_90.0°  \n\nCalculando tensoes pos falta:\nVka0 = -Zkk0*Ifa0\nVka1 = Vf - Zkk1*Ifa1\nVka2 = -Zkk2*Ifa2\n\nVkan = \n0.0/_0.0°  \n0.5/_0.0°  \n0.5/_0.0°  \n\nVabc = (A @ Vkan) / sqrt(3) = \n1.0/_0.0°  \n0.5/_180.0°  \n0.5/_180.0°  \n"
     ]
    },
    {
     "output_type": "execute_result",
     "data": {
      "text/plain": [
       "(array([[ 0.    +0.j],\n",
       "        [-5.7735+0.j],\n",
       "        [ 5.7735-0.j]]),\n",
       " array([[0.+0.j    ],\n",
       "        [0.-3.3333j],\n",
       "        [0.+3.3333j]]),\n",
       " array([[ 1. +0.j],\n",
       "        [-0.5+0.j],\n",
       "        [-0.5+0.j]]),\n",
       " array([[0. -0.j],\n",
       "        [0.5+0.j],\n",
       "        [0.5-0.j]]))"
      ]
     },
     "metadata": {},
     "execution_count": 9
    }
   ],
   "source": [
    "\n",
    "#ex 18\n",
    "print(\"Exercicio 18\")\n",
    "nepo.fault_phase_gnd(0.15j, 0.15j, 0.05j, Zf=0, Vf=1)\n",
    "#ex 19\n",
    "print(\"Exercicio 19\")\n",
    "nepo.fault_phase_phase(0.15j, 0.15j, 0.05j, Zf=0, Vf=1)"
   ]
  },
  {
   "cell_type": "code",
   "execution_count": 10,
   "metadata": {},
   "outputs": [
    {
     "output_type": "stream",
     "name": "stdout",
     "text": [
      "Exercicio 21\n\nFalta Fase-Terra com Vf=1.0/_0.0°pu, Zkk1=0.2j, Zkk2=0.2j, Zkk0=0.05j e Zf=0.08j\n\nCalculando Ifa0, Ifa1, Ifa2:\nIfa0 = Ifa1 = Ifa2 = Vf/(Zkk0+Zkk1+Zkk2+3*Zf)\nIfa0 = 1.0/_0.0°/(0.05j+0.2j+0.2j+0.24j)\nIfa0 = 1.4493/_-90.0°\n\nCalculando Ifa:\n Ifa = Ifa0 + Ifa1 + Ifa2 = 3*Ifa0 \n Ifa = 4.3478/_-90.0°\n\nvIfn =\n [[0.-1.4493j]\n [0.-1.4493j]\n [0.-1.4493j]] \n\n vIf =\n[[0.-4.3478j]\n [0.+0.j    ]\n [0.+0.j    ]] \n\n\n\nCalculando tensoes pos falta:\nVka0 = -Zkk0*Ifa0\nVka1 = Vf - Zkk1*Ifa1\nVka2 = -Zkk2*Ifa2\n\nVkan = \n0.0725/_180.0°  \n0.7101/_0.0°  \n0.2899/_180.0°  \n\nVabc = (A @ Vkan) / sqrt(3) = \n0.3478/_0.0°  \n0.911/_-108.07°  \n0.911/_108.07°  \n"
     ]
    },
    {
     "output_type": "execute_result",
     "data": {
      "text/plain": [
       "(array([[0.-4.3478j],\n",
       "        [0.+0.j    ],\n",
       "        [0.+0.j    ]]),\n",
       " array([[0.-1.4493j],\n",
       "        [0.-1.4493j],\n",
       "        [0.-1.4493j]]),\n",
       " array([[ 0.3478+0.j   ],\n",
       "        [-0.2826-0.866j],\n",
       "        [-0.2826+0.866j]]),\n",
       " array([[-0.0725+0.j],\n",
       "        [ 0.7101+0.j],\n",
       "        [-0.2899+0.j]]))"
      ]
     },
     "metadata": {},
     "execution_count": 10
    }
   ],
   "source": [
    "# ex 21\n",
    "print('Exercicio 21')\n",
    "nepo.fault_phase_gnd(0.2j,0.2j,0.05j, Zf=0.08j,Vf=1)"
   ]
  },
  {
   "cell_type": "code",
   "execution_count": null,
   "metadata": {},
   "outputs": [],
   "source": []
  }
 ]
}